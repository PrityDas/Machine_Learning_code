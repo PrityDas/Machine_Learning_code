{
  "nbformat": 4,
  "nbformat_minor": 0,
  "metadata": {
    "colab": {
      "provenance": [],
      "authorship_tag": "ABX9TyOV+KsNqgrZyomvAe3AMF/y",
      "include_colab_link": true
    },
    "kernelspec": {
      "name": "python3",
      "display_name": "Python 3"
    },
    "language_info": {
      "name": "python"
    }
  },
  "cells": [
    {
      "cell_type": "markdown",
      "metadata": {
        "id": "view-in-github",
        "colab_type": "text"
      },
      "source": [
        "<a href=\"https://colab.research.google.com/github/prityd825/Machine_Learning_code/blob/main/Heart_Disease_Prediction.ipynb\" target=\"_parent\"><img src=\"https://colab.research.google.com/assets/colab-badge.svg\" alt=\"Open In Colab\"/></a>"
      ]
    },
    {
      "cell_type": "code",
      "execution_count": null,
      "metadata": {
        "colab": {
          "base_uri": "https://localhost:8080/"
        },
        "id": "g09rmxF_xXuv",
        "outputId": "3ca1346a-8b46-43a5-fae2-f397df489dda"
      },
      "outputs": [
        {
          "output_type": "stream",
          "name": "stdout",
          "text": [
            "Mounted at /content/drive\n"
          ]
        }
      ],
      "source": [
        "from google.colab import drive\n",
        "drive.mount('/content/drive')"
      ]
    },
    {
      "cell_type": "code",
      "source": [
        "import numpy as np\n",
        "import pandas as pd\n",
        "pd.plotting.register_matplotlib_converters()\n",
        "import matplotlib.pyplot as plt\n",
        "%matplotlib inline\n",
        "import seaborn as sns"
      ],
      "metadata": {
        "id": "ZYLtRQZSylHk"
      },
      "execution_count": null,
      "outputs": []
    },
    {
      "cell_type": "code",
      "source": [
        "heart = pd.read_csv(\"/content/drive/MyDrive/Colab Notebooks/dataset_heart.csv\")"
      ],
      "metadata": {
        "id": "yAFNKkBay8_I"
      },
      "execution_count": null,
      "outputs": []
    },
    {
      "cell_type": "code",
      "source": [
        "heart.head(10)"
      ],
      "metadata": {
        "colab": {
          "base_uri": "https://localhost:8080/",
          "height": 363
        },
        "id": "uAzmcnm7zCPu",
        "outputId": "322507cf-8eee-40c6-fed1-8d0e4a394a76"
      },
      "execution_count": null,
      "outputs": [
        {
          "output_type": "execute_result",
          "data": {
            "text/plain": [
              "   age  sex   chest pain type  resting blood pressure  serum cholestoral  \\\n",
              "0   70     1                4                     130                322   \n",
              "1   67     0                3                     115                564   \n",
              "2   57     1                2                     124                261   \n",
              "3   64     1                4                     128                263   \n",
              "4   74     0                2                     120                269   \n",
              "5   65     1                4                     120                177   \n",
              "6   56     1                3                     130                256   \n",
              "7   59     1                4                     110                239   \n",
              "8   60     1                4                     140                293   \n",
              "9   63     0                4                     150                407   \n",
              "\n",
              "   fasting blood sugar  resting electrocardiographic results  max heart rate  \\\n",
              "0                    0                                     2             109   \n",
              "1                    0                                     2             160   \n",
              "2                    0                                     0             141   \n",
              "3                    0                                     0             105   \n",
              "4                    0                                     2             121   \n",
              "5                    0                                     0             140   \n",
              "6                    1                                     2             142   \n",
              "7                    0                                     2             142   \n",
              "8                    0                                     2             170   \n",
              "9                    0                                     2             154   \n",
              "\n",
              "   exercise induced angina  oldpeak  ST segment  major vessels  thal  \\\n",
              "0                        0      2.4           2              3     3   \n",
              "1                        0      1.6           2              0     7   \n",
              "2                        0      0.3           1              0     7   \n",
              "3                        1      0.2           2              1     7   \n",
              "4                        1      0.2           1              1     3   \n",
              "5                        0      0.4           1              0     7   \n",
              "6                        1      0.6           2              1     6   \n",
              "7                        1      1.2           2              1     7   \n",
              "8                        0      1.2           2              2     7   \n",
              "9                        0      4.0           2              3     7   \n",
              "\n",
              "   heart disease  \n",
              "0              2  \n",
              "1              1  \n",
              "2              2  \n",
              "3              1  \n",
              "4              1  \n",
              "5              1  \n",
              "6              2  \n",
              "7              2  \n",
              "8              2  \n",
              "9              2  "
            ],
            "text/html": [
              "\n",
              "  <div id=\"df-1db4d0c8-145a-4f2c-8511-8b74b37686e4\" class=\"colab-df-container\">\n",
              "    <div>\n",
              "<style scoped>\n",
              "    .dataframe tbody tr th:only-of-type {\n",
              "        vertical-align: middle;\n",
              "    }\n",
              "\n",
              "    .dataframe tbody tr th {\n",
              "        vertical-align: top;\n",
              "    }\n",
              "\n",
              "    .dataframe thead th {\n",
              "        text-align: right;\n",
              "    }\n",
              "</style>\n",
              "<table border=\"1\" class=\"dataframe\">\n",
              "  <thead>\n",
              "    <tr style=\"text-align: right;\">\n",
              "      <th></th>\n",
              "      <th>age</th>\n",
              "      <th>sex</th>\n",
              "      <th>chest pain type</th>\n",
              "      <th>resting blood pressure</th>\n",
              "      <th>serum cholestoral</th>\n",
              "      <th>fasting blood sugar</th>\n",
              "      <th>resting electrocardiographic results</th>\n",
              "      <th>max heart rate</th>\n",
              "      <th>exercise induced angina</th>\n",
              "      <th>oldpeak</th>\n",
              "      <th>ST segment</th>\n",
              "      <th>major vessels</th>\n",
              "      <th>thal</th>\n",
              "      <th>heart disease</th>\n",
              "    </tr>\n",
              "  </thead>\n",
              "  <tbody>\n",
              "    <tr>\n",
              "      <th>0</th>\n",
              "      <td>70</td>\n",
              "      <td>1</td>\n",
              "      <td>4</td>\n",
              "      <td>130</td>\n",
              "      <td>322</td>\n",
              "      <td>0</td>\n",
              "      <td>2</td>\n",
              "      <td>109</td>\n",
              "      <td>0</td>\n",
              "      <td>2.4</td>\n",
              "      <td>2</td>\n",
              "      <td>3</td>\n",
              "      <td>3</td>\n",
              "      <td>2</td>\n",
              "    </tr>\n",
              "    <tr>\n",
              "      <th>1</th>\n",
              "      <td>67</td>\n",
              "      <td>0</td>\n",
              "      <td>3</td>\n",
              "      <td>115</td>\n",
              "      <td>564</td>\n",
              "      <td>0</td>\n",
              "      <td>2</td>\n",
              "      <td>160</td>\n",
              "      <td>0</td>\n",
              "      <td>1.6</td>\n",
              "      <td>2</td>\n",
              "      <td>0</td>\n",
              "      <td>7</td>\n",
              "      <td>1</td>\n",
              "    </tr>\n",
              "    <tr>\n",
              "      <th>2</th>\n",
              "      <td>57</td>\n",
              "      <td>1</td>\n",
              "      <td>2</td>\n",
              "      <td>124</td>\n",
              "      <td>261</td>\n",
              "      <td>0</td>\n",
              "      <td>0</td>\n",
              "      <td>141</td>\n",
              "      <td>0</td>\n",
              "      <td>0.3</td>\n",
              "      <td>1</td>\n",
              "      <td>0</td>\n",
              "      <td>7</td>\n",
              "      <td>2</td>\n",
              "    </tr>\n",
              "    <tr>\n",
              "      <th>3</th>\n",
              "      <td>64</td>\n",
              "      <td>1</td>\n",
              "      <td>4</td>\n",
              "      <td>128</td>\n",
              "      <td>263</td>\n",
              "      <td>0</td>\n",
              "      <td>0</td>\n",
              "      <td>105</td>\n",
              "      <td>1</td>\n",
              "      <td>0.2</td>\n",
              "      <td>2</td>\n",
              "      <td>1</td>\n",
              "      <td>7</td>\n",
              "      <td>1</td>\n",
              "    </tr>\n",
              "    <tr>\n",
              "      <th>4</th>\n",
              "      <td>74</td>\n",
              "      <td>0</td>\n",
              "      <td>2</td>\n",
              "      <td>120</td>\n",
              "      <td>269</td>\n",
              "      <td>0</td>\n",
              "      <td>2</td>\n",
              "      <td>121</td>\n",
              "      <td>1</td>\n",
              "      <td>0.2</td>\n",
              "      <td>1</td>\n",
              "      <td>1</td>\n",
              "      <td>3</td>\n",
              "      <td>1</td>\n",
              "    </tr>\n",
              "    <tr>\n",
              "      <th>5</th>\n",
              "      <td>65</td>\n",
              "      <td>1</td>\n",
              "      <td>4</td>\n",
              "      <td>120</td>\n",
              "      <td>177</td>\n",
              "      <td>0</td>\n",
              "      <td>0</td>\n",
              "      <td>140</td>\n",
              "      <td>0</td>\n",
              "      <td>0.4</td>\n",
              "      <td>1</td>\n",
              "      <td>0</td>\n",
              "      <td>7</td>\n",
              "      <td>1</td>\n",
              "    </tr>\n",
              "    <tr>\n",
              "      <th>6</th>\n",
              "      <td>56</td>\n",
              "      <td>1</td>\n",
              "      <td>3</td>\n",
              "      <td>130</td>\n",
              "      <td>256</td>\n",
              "      <td>1</td>\n",
              "      <td>2</td>\n",
              "      <td>142</td>\n",
              "      <td>1</td>\n",
              "      <td>0.6</td>\n",
              "      <td>2</td>\n",
              "      <td>1</td>\n",
              "      <td>6</td>\n",
              "      <td>2</td>\n",
              "    </tr>\n",
              "    <tr>\n",
              "      <th>7</th>\n",
              "      <td>59</td>\n",
              "      <td>1</td>\n",
              "      <td>4</td>\n",
              "      <td>110</td>\n",
              "      <td>239</td>\n",
              "      <td>0</td>\n",
              "      <td>2</td>\n",
              "      <td>142</td>\n",
              "      <td>1</td>\n",
              "      <td>1.2</td>\n",
              "      <td>2</td>\n",
              "      <td>1</td>\n",
              "      <td>7</td>\n",
              "      <td>2</td>\n",
              "    </tr>\n",
              "    <tr>\n",
              "      <th>8</th>\n",
              "      <td>60</td>\n",
              "      <td>1</td>\n",
              "      <td>4</td>\n",
              "      <td>140</td>\n",
              "      <td>293</td>\n",
              "      <td>0</td>\n",
              "      <td>2</td>\n",
              "      <td>170</td>\n",
              "      <td>0</td>\n",
              "      <td>1.2</td>\n",
              "      <td>2</td>\n",
              "      <td>2</td>\n",
              "      <td>7</td>\n",
              "      <td>2</td>\n",
              "    </tr>\n",
              "    <tr>\n",
              "      <th>9</th>\n",
              "      <td>63</td>\n",
              "      <td>0</td>\n",
              "      <td>4</td>\n",
              "      <td>150</td>\n",
              "      <td>407</td>\n",
              "      <td>0</td>\n",
              "      <td>2</td>\n",
              "      <td>154</td>\n",
              "      <td>0</td>\n",
              "      <td>4.0</td>\n",
              "      <td>2</td>\n",
              "      <td>3</td>\n",
              "      <td>7</td>\n",
              "      <td>2</td>\n",
              "    </tr>\n",
              "  </tbody>\n",
              "</table>\n",
              "</div>\n",
              "    <div class=\"colab-df-buttons\">\n",
              "\n",
              "  <div class=\"colab-df-container\">\n",
              "    <button class=\"colab-df-convert\" onclick=\"convertToInteractive('df-1db4d0c8-145a-4f2c-8511-8b74b37686e4')\"\n",
              "            title=\"Convert this dataframe to an interactive table.\"\n",
              "            style=\"display:none;\">\n",
              "\n",
              "  <svg xmlns=\"http://www.w3.org/2000/svg\" height=\"24px\" viewBox=\"0 -960 960 960\">\n",
              "    <path d=\"M120-120v-720h720v720H120Zm60-500h600v-160H180v160Zm220 220h160v-160H400v160Zm0 220h160v-160H400v160ZM180-400h160v-160H180v160Zm440 0h160v-160H620v160ZM180-180h160v-160H180v160Zm440 0h160v-160H620v160Z\"/>\n",
              "  </svg>\n",
              "    </button>\n",
              "\n",
              "  <style>\n",
              "    .colab-df-container {\n",
              "      display:flex;\n",
              "      gap: 12px;\n",
              "    }\n",
              "\n",
              "    .colab-df-convert {\n",
              "      background-color: #E8F0FE;\n",
              "      border: none;\n",
              "      border-radius: 50%;\n",
              "      cursor: pointer;\n",
              "      display: none;\n",
              "      fill: #1967D2;\n",
              "      height: 32px;\n",
              "      padding: 0 0 0 0;\n",
              "      width: 32px;\n",
              "    }\n",
              "\n",
              "    .colab-df-convert:hover {\n",
              "      background-color: #E2EBFA;\n",
              "      box-shadow: 0px 1px 2px rgba(60, 64, 67, 0.3), 0px 1px 3px 1px rgba(60, 64, 67, 0.15);\n",
              "      fill: #174EA6;\n",
              "    }\n",
              "\n",
              "    .colab-df-buttons div {\n",
              "      margin-bottom: 4px;\n",
              "    }\n",
              "\n",
              "    [theme=dark] .colab-df-convert {\n",
              "      background-color: #3B4455;\n",
              "      fill: #D2E3FC;\n",
              "    }\n",
              "\n",
              "    [theme=dark] .colab-df-convert:hover {\n",
              "      background-color: #434B5C;\n",
              "      box-shadow: 0px 1px 3px 1px rgba(0, 0, 0, 0.15);\n",
              "      filter: drop-shadow(0px 1px 2px rgba(0, 0, 0, 0.3));\n",
              "      fill: #FFFFFF;\n",
              "    }\n",
              "  </style>\n",
              "\n",
              "    <script>\n",
              "      const buttonEl =\n",
              "        document.querySelector('#df-1db4d0c8-145a-4f2c-8511-8b74b37686e4 button.colab-df-convert');\n",
              "      buttonEl.style.display =\n",
              "        google.colab.kernel.accessAllowed ? 'block' : 'none';\n",
              "\n",
              "      async function convertToInteractive(key) {\n",
              "        const element = document.querySelector('#df-1db4d0c8-145a-4f2c-8511-8b74b37686e4');\n",
              "        const dataTable =\n",
              "          await google.colab.kernel.invokeFunction('convertToInteractive',\n",
              "                                                    [key], {});\n",
              "        if (!dataTable) return;\n",
              "\n",
              "        const docLinkHtml = 'Like what you see? Visit the ' +\n",
              "          '<a target=\"_blank\" href=https://colab.research.google.com/notebooks/data_table.ipynb>data table notebook</a>'\n",
              "          + ' to learn more about interactive tables.';\n",
              "        element.innerHTML = '';\n",
              "        dataTable['output_type'] = 'display_data';\n",
              "        await google.colab.output.renderOutput(dataTable, element);\n",
              "        const docLink = document.createElement('div');\n",
              "        docLink.innerHTML = docLinkHtml;\n",
              "        element.appendChild(docLink);\n",
              "      }\n",
              "    </script>\n",
              "  </div>\n",
              "\n",
              "\n",
              "<div id=\"df-6d772328-09e7-40e1-b852-e5dc567e650a\">\n",
              "  <button class=\"colab-df-quickchart\" onclick=\"quickchart('df-6d772328-09e7-40e1-b852-e5dc567e650a')\"\n",
              "            title=\"Suggest charts.\"\n",
              "            style=\"display:none;\">\n",
              "\n",
              "<svg xmlns=\"http://www.w3.org/2000/svg\" height=\"24px\"viewBox=\"0 0 24 24\"\n",
              "     width=\"24px\">\n",
              "    <g>\n",
              "        <path d=\"M19 3H5c-1.1 0-2 .9-2 2v14c0 1.1.9 2 2 2h14c1.1 0 2-.9 2-2V5c0-1.1-.9-2-2-2zM9 17H7v-7h2v7zm4 0h-2V7h2v10zm4 0h-2v-4h2v4z\"/>\n",
              "    </g>\n",
              "</svg>\n",
              "  </button>\n",
              "\n",
              "<style>\n",
              "  .colab-df-quickchart {\n",
              "      --bg-color: #E8F0FE;\n",
              "      --fill-color: #1967D2;\n",
              "      --hover-bg-color: #E2EBFA;\n",
              "      --hover-fill-color: #174EA6;\n",
              "      --disabled-fill-color: #AAA;\n",
              "      --disabled-bg-color: #DDD;\n",
              "  }\n",
              "\n",
              "  [theme=dark] .colab-df-quickchart {\n",
              "      --bg-color: #3B4455;\n",
              "      --fill-color: #D2E3FC;\n",
              "      --hover-bg-color: #434B5C;\n",
              "      --hover-fill-color: #FFFFFF;\n",
              "      --disabled-bg-color: #3B4455;\n",
              "      --disabled-fill-color: #666;\n",
              "  }\n",
              "\n",
              "  .colab-df-quickchart {\n",
              "    background-color: var(--bg-color);\n",
              "    border: none;\n",
              "    border-radius: 50%;\n",
              "    cursor: pointer;\n",
              "    display: none;\n",
              "    fill: var(--fill-color);\n",
              "    height: 32px;\n",
              "    padding: 0;\n",
              "    width: 32px;\n",
              "  }\n",
              "\n",
              "  .colab-df-quickchart:hover {\n",
              "    background-color: var(--hover-bg-color);\n",
              "    box-shadow: 0 1px 2px rgba(60, 64, 67, 0.3), 0 1px 3px 1px rgba(60, 64, 67, 0.15);\n",
              "    fill: var(--button-hover-fill-color);\n",
              "  }\n",
              "\n",
              "  .colab-df-quickchart-complete:disabled,\n",
              "  .colab-df-quickchart-complete:disabled:hover {\n",
              "    background-color: var(--disabled-bg-color);\n",
              "    fill: var(--disabled-fill-color);\n",
              "    box-shadow: none;\n",
              "  }\n",
              "\n",
              "  .colab-df-spinner {\n",
              "    border: 2px solid var(--fill-color);\n",
              "    border-color: transparent;\n",
              "    border-bottom-color: var(--fill-color);\n",
              "    animation:\n",
              "      spin 1s steps(1) infinite;\n",
              "  }\n",
              "\n",
              "  @keyframes spin {\n",
              "    0% {\n",
              "      border-color: transparent;\n",
              "      border-bottom-color: var(--fill-color);\n",
              "      border-left-color: var(--fill-color);\n",
              "    }\n",
              "    20% {\n",
              "      border-color: transparent;\n",
              "      border-left-color: var(--fill-color);\n",
              "      border-top-color: var(--fill-color);\n",
              "    }\n",
              "    30% {\n",
              "      border-color: transparent;\n",
              "      border-left-color: var(--fill-color);\n",
              "      border-top-color: var(--fill-color);\n",
              "      border-right-color: var(--fill-color);\n",
              "    }\n",
              "    40% {\n",
              "      border-color: transparent;\n",
              "      border-right-color: var(--fill-color);\n",
              "      border-top-color: var(--fill-color);\n",
              "    }\n",
              "    60% {\n",
              "      border-color: transparent;\n",
              "      border-right-color: var(--fill-color);\n",
              "    }\n",
              "    80% {\n",
              "      border-color: transparent;\n",
              "      border-right-color: var(--fill-color);\n",
              "      border-bottom-color: var(--fill-color);\n",
              "    }\n",
              "    90% {\n",
              "      border-color: transparent;\n",
              "      border-bottom-color: var(--fill-color);\n",
              "    }\n",
              "  }\n",
              "</style>\n",
              "\n",
              "  <script>\n",
              "    async function quickchart(key) {\n",
              "      const quickchartButtonEl =\n",
              "        document.querySelector('#' + key + ' button');\n",
              "      quickchartButtonEl.disabled = true;  // To prevent multiple clicks.\n",
              "      quickchartButtonEl.classList.add('colab-df-spinner');\n",
              "      try {\n",
              "        const charts = await google.colab.kernel.invokeFunction(\n",
              "            'suggestCharts', [key], {});\n",
              "      } catch (error) {\n",
              "        console.error('Error during call to suggestCharts:', error);\n",
              "      }\n",
              "      quickchartButtonEl.classList.remove('colab-df-spinner');\n",
              "      quickchartButtonEl.classList.add('colab-df-quickchart-complete');\n",
              "    }\n",
              "    (() => {\n",
              "      let quickchartButtonEl =\n",
              "        document.querySelector('#df-6d772328-09e7-40e1-b852-e5dc567e650a button');\n",
              "      quickchartButtonEl.style.display =\n",
              "        google.colab.kernel.accessAllowed ? 'block' : 'none';\n",
              "    })();\n",
              "  </script>\n",
              "</div>\n",
              "    </div>\n",
              "  </div>\n"
            ]
          },
          "metadata": {},
          "execution_count": 4
        }
      ]
    },
    {
      "cell_type": "code",
      "source": [
        "heart.info()"
      ],
      "metadata": {
        "colab": {
          "base_uri": "https://localhost:8080/"
        },
        "id": "xj_rMExyzIL8",
        "outputId": "ee936087-b1dd-45d7-c689-108203a860f6"
      },
      "execution_count": null,
      "outputs": [
        {
          "output_type": "stream",
          "name": "stdout",
          "text": [
            "<class 'pandas.core.frame.DataFrame'>\n",
            "RangeIndex: 270 entries, 0 to 269\n",
            "Data columns (total 14 columns):\n",
            " #   Column                                Non-Null Count  Dtype  \n",
            "---  ------                                --------------  -----  \n",
            " 0   age                                   270 non-null    int64  \n",
            " 1   sex                                   270 non-null    int64  \n",
            " 2   chest pain type                       270 non-null    int64  \n",
            " 3   resting blood pressure                270 non-null    int64  \n",
            " 4   serum cholestoral                     270 non-null    int64  \n",
            " 5   fasting blood sugar                   270 non-null    int64  \n",
            " 6   resting electrocardiographic results  270 non-null    int64  \n",
            " 7   max heart rate                        270 non-null    int64  \n",
            " 8   exercise induced angina               270 non-null    int64  \n",
            " 9   oldpeak                               270 non-null    float64\n",
            " 10  ST segment                            270 non-null    int64  \n",
            " 11  major vessels                         270 non-null    int64  \n",
            " 12  thal                                  270 non-null    int64  \n",
            " 13  heart disease                         270 non-null    int64  \n",
            "dtypes: float64(1), int64(13)\n",
            "memory usage: 29.7 KB\n"
          ]
        }
      ]
    },
    {
      "cell_type": "code",
      "source": [
        "print(\"Number of rows: \",heart.shape[0])"
      ],
      "metadata": {
        "colab": {
          "base_uri": "https://localhost:8080/"
        },
        "id": "c5gm6WVkzOGW",
        "outputId": "919922c1-4a03-48a3-c778-e52740bb7162"
      },
      "execution_count": null,
      "outputs": [
        {
          "output_type": "stream",
          "name": "stdout",
          "text": [
            "Number of rows:  270\n"
          ]
        }
      ]
    },
    {
      "cell_type": "code",
      "source": [
        "print(\"Number of Columns: \", heart.shape[1])"
      ],
      "metadata": {
        "colab": {
          "base_uri": "https://localhost:8080/"
        },
        "id": "bT3fX0bTzWiv",
        "outputId": "195c8f81-92fe-49ab-ecd7-65474583adbc"
      },
      "execution_count": null,
      "outputs": [
        {
          "output_type": "stream",
          "name": "stdout",
          "text": [
            "Number of Columns:  14\n"
          ]
        }
      ]
    },
    {
      "cell_type": "code",
      "source": [
        "heart.isnull().sum()"
      ],
      "metadata": {
        "colab": {
          "base_uri": "https://localhost:8080/"
        },
        "id": "secJ8w3rzZhz",
        "outputId": "11c0924c-1720-41ea-9376-d9ae202e305e"
      },
      "execution_count": null,
      "outputs": [
        {
          "output_type": "execute_result",
          "data": {
            "text/plain": [
              "age                                     0\n",
              "sex                                     0\n",
              "chest pain type                         0\n",
              "resting blood pressure                  0\n",
              "serum cholestoral                       0\n",
              "fasting blood sugar                     0\n",
              "resting electrocardiographic results    0\n",
              "max heart rate                          0\n",
              "exercise induced angina                 0\n",
              "oldpeak                                 0\n",
              "ST segment                              0\n",
              "major vessels                           0\n",
              "thal                                    0\n",
              "heart disease                           0\n",
              "dtype: int64"
            ]
          },
          "metadata": {},
          "execution_count": 8
        }
      ]
    },
    {
      "cell_type": "code",
      "source": [
        "heart.describe().T.style.background_gradient(cmap = \"Blues\")"
      ],
      "metadata": {
        "colab": {
          "base_uri": "https://localhost:8080/",
          "height": 488
        },
        "id": "FpPs9wxtzdIo",
        "outputId": "3de899dd-8c16-41c7-a56a-b5b1638a7bc9"
      },
      "execution_count": null,
      "outputs": [
        {
          "output_type": "execute_result",
          "data": {
            "text/plain": [
              "<pandas.io.formats.style.Styler at 0x7d3ce716b280>"
            ],
            "text/html": [
              "<style type=\"text/css\">\n",
              "#T_4cf60_row0_col0, #T_4cf60_row1_col0, #T_4cf60_row1_col1, #T_4cf60_row1_col2, #T_4cf60_row1_col3, #T_4cf60_row1_col4, #T_4cf60_row1_col6, #T_4cf60_row1_col7, #T_4cf60_row2_col0, #T_4cf60_row3_col0, #T_4cf60_row4_col0, #T_4cf60_row5_col0, #T_4cf60_row5_col1, #T_4cf60_row5_col2, #T_4cf60_row5_col3, #T_4cf60_row5_col4, #T_4cf60_row5_col5, #T_4cf60_row5_col6, #T_4cf60_row5_col7, #T_4cf60_row6_col0, #T_4cf60_row6_col1, #T_4cf60_row6_col3, #T_4cf60_row6_col4, #T_4cf60_row6_col7, #T_4cf60_row7_col0, #T_4cf60_row8_col0, #T_4cf60_row8_col1, #T_4cf60_row8_col2, #T_4cf60_row8_col3, #T_4cf60_row8_col4, #T_4cf60_row8_col5, #T_4cf60_row8_col6, #T_4cf60_row8_col7, #T_4cf60_row9_col0, #T_4cf60_row9_col1, #T_4cf60_row9_col3, #T_4cf60_row9_col4, #T_4cf60_row9_col5, #T_4cf60_row10_col0, #T_4cf60_row10_col7, #T_4cf60_row11_col0, #T_4cf60_row11_col1, #T_4cf60_row11_col3, #T_4cf60_row11_col4, #T_4cf60_row11_col5, #T_4cf60_row11_col6, #T_4cf60_row11_col7, #T_4cf60_row12_col0, #T_4cf60_row13_col0, #T_4cf60_row13_col2, #T_4cf60_row13_col7 {\n",
              "  background-color: #f7fbff;\n",
              "  color: #000000;\n",
              "}\n",
              "#T_4cf60_row0_col1, #T_4cf60_row0_col6 {\n",
              "  background-color: #cddff1;\n",
              "  color: #000000;\n",
              "}\n",
              "#T_4cf60_row0_col2 {\n",
              "  background-color: #d6e5f4;\n",
              "  color: #000000;\n",
              "}\n",
              "#T_4cf60_row0_col3 {\n",
              "  background-color: #cadef0;\n",
              "  color: #000000;\n",
              "}\n",
              "#T_4cf60_row0_col4, #T_4cf60_row0_col5 {\n",
              "  background-color: #cbdef1;\n",
              "  color: #000000;\n",
              "}\n",
              "#T_4cf60_row0_col7 {\n",
              "  background-color: #dceaf6;\n",
              "  color: #000000;\n",
              "}\n",
              "#T_4cf60_row1_col5, #T_4cf60_row2_col7, #T_4cf60_row6_col6, #T_4cf60_row9_col6, #T_4cf60_row10_col1, #T_4cf60_row10_col2, #T_4cf60_row10_col4, #T_4cf60_row10_col6, #T_4cf60_row13_col1, #T_4cf60_row13_col4, #T_4cf60_row13_col5, #T_4cf60_row13_col6 {\n",
              "  background-color: #f6faff;\n",
              "  color: #000000;\n",
              "}\n",
              "#T_4cf60_row2_col1, #T_4cf60_row2_col4, #T_4cf60_row2_col5, #T_4cf60_row2_col6, #T_4cf60_row6_col2, #T_4cf60_row9_col2, #T_4cf60_row12_col4, #T_4cf60_row12_col5 {\n",
              "  background-color: #f5f9fe;\n",
              "  color: #000000;\n",
              "}\n",
              "#T_4cf60_row2_col2, #T_4cf60_row2_col3, #T_4cf60_row6_col5, #T_4cf60_row9_col7, #T_4cf60_row10_col3, #T_4cf60_row10_col5, #T_4cf60_row11_col2, #T_4cf60_row12_col7, #T_4cf60_row13_col3 {\n",
              "  background-color: #f5fafe;\n",
              "  color: #000000;\n",
              "}\n",
              "#T_4cf60_row3_col1 {\n",
              "  background-color: #63a8d3;\n",
              "  color: #f1f1f1;\n",
              "}\n",
              "#T_4cf60_row3_col2 {\n",
              "  background-color: #a9cfe5;\n",
              "  color: #000000;\n",
              "}\n",
              "#T_4cf60_row3_col3 {\n",
              "  background-color: #2272b6;\n",
              "  color: #f1f1f1;\n",
              "}\n",
              "#T_4cf60_row3_col4, #T_4cf60_row7_col3 {\n",
              "  background-color: #56a0ce;\n",
              "  color: #f1f1f1;\n",
              "}\n",
              "#T_4cf60_row3_col5 {\n",
              "  background-color: #61a7d2;\n",
              "  color: #f1f1f1;\n",
              "}\n",
              "#T_4cf60_row3_col6 {\n",
              "  background-color: #6aaed6;\n",
              "  color: #f1f1f1;\n",
              "}\n",
              "#T_4cf60_row3_col7 {\n",
              "  background-color: #a5cde3;\n",
              "  color: #000000;\n",
              "}\n",
              "#T_4cf60_row4_col1, #T_4cf60_row4_col2, #T_4cf60_row4_col3, #T_4cf60_row4_col4, #T_4cf60_row4_col5, #T_4cf60_row4_col6, #T_4cf60_row4_col7 {\n",
              "  background-color: #08306b;\n",
              "  color: #f1f1f1;\n",
              "}\n",
              "#T_4cf60_row7_col1 {\n",
              "  background-color: #4a98c9;\n",
              "  color: #f1f1f1;\n",
              "}\n",
              "#T_4cf60_row7_col2 {\n",
              "  background-color: #82bbdb;\n",
              "  color: #000000;\n",
              "}\n",
              "#T_4cf60_row7_col4 {\n",
              "  background-color: #4292c6;\n",
              "  color: #f1f1f1;\n",
              "}\n",
              "#T_4cf60_row7_col5 {\n",
              "  background-color: #4191c6;\n",
              "  color: #f1f1f1;\n",
              "}\n",
              "#T_4cf60_row7_col6 {\n",
              "  background-color: #4d99ca;\n",
              "  color: #f1f1f1;\n",
              "}\n",
              "#T_4cf60_row7_col7 {\n",
              "  background-color: #a4cce3;\n",
              "  color: #000000;\n",
              "}\n",
              "#T_4cf60_row12_col1 {\n",
              "  background-color: #f4f9fe;\n",
              "  color: #000000;\n",
              "}\n",
              "#T_4cf60_row12_col2 {\n",
              "  background-color: #f2f7fd;\n",
              "  color: #000000;\n",
              "}\n",
              "#T_4cf60_row12_col3, #T_4cf60_row12_col6 {\n",
              "  background-color: #f2f8fd;\n",
              "  color: #000000;\n",
              "}\n",
              "</style>\n",
              "<table id=\"T_4cf60\" class=\"dataframe\">\n",
              "  <thead>\n",
              "    <tr>\n",
              "      <th class=\"blank level0\" >&nbsp;</th>\n",
              "      <th id=\"T_4cf60_level0_col0\" class=\"col_heading level0 col0\" >count</th>\n",
              "      <th id=\"T_4cf60_level0_col1\" class=\"col_heading level0 col1\" >mean</th>\n",
              "      <th id=\"T_4cf60_level0_col2\" class=\"col_heading level0 col2\" >std</th>\n",
              "      <th id=\"T_4cf60_level0_col3\" class=\"col_heading level0 col3\" >min</th>\n",
              "      <th id=\"T_4cf60_level0_col4\" class=\"col_heading level0 col4\" >25%</th>\n",
              "      <th id=\"T_4cf60_level0_col5\" class=\"col_heading level0 col5\" >50%</th>\n",
              "      <th id=\"T_4cf60_level0_col6\" class=\"col_heading level0 col6\" >75%</th>\n",
              "      <th id=\"T_4cf60_level0_col7\" class=\"col_heading level0 col7\" >max</th>\n",
              "    </tr>\n",
              "  </thead>\n",
              "  <tbody>\n",
              "    <tr>\n",
              "      <th id=\"T_4cf60_level0_row0\" class=\"row_heading level0 row0\" >age</th>\n",
              "      <td id=\"T_4cf60_row0_col0\" class=\"data row0 col0\" >270.000000</td>\n",
              "      <td id=\"T_4cf60_row0_col1\" class=\"data row0 col1\" >54.433333</td>\n",
              "      <td id=\"T_4cf60_row0_col2\" class=\"data row0 col2\" >9.109067</td>\n",
              "      <td id=\"T_4cf60_row0_col3\" class=\"data row0 col3\" >29.000000</td>\n",
              "      <td id=\"T_4cf60_row0_col4\" class=\"data row0 col4\" >48.000000</td>\n",
              "      <td id=\"T_4cf60_row0_col5\" class=\"data row0 col5\" >55.000000</td>\n",
              "      <td id=\"T_4cf60_row0_col6\" class=\"data row0 col6\" >61.000000</td>\n",
              "      <td id=\"T_4cf60_row0_col7\" class=\"data row0 col7\" >77.000000</td>\n",
              "    </tr>\n",
              "    <tr>\n",
              "      <th id=\"T_4cf60_level0_row1\" class=\"row_heading level0 row1\" >sex </th>\n",
              "      <td id=\"T_4cf60_row1_col0\" class=\"data row1 col0\" >270.000000</td>\n",
              "      <td id=\"T_4cf60_row1_col1\" class=\"data row1 col1\" >0.677778</td>\n",
              "      <td id=\"T_4cf60_row1_col2\" class=\"data row1 col2\" >0.468195</td>\n",
              "      <td id=\"T_4cf60_row1_col3\" class=\"data row1 col3\" >0.000000</td>\n",
              "      <td id=\"T_4cf60_row1_col4\" class=\"data row1 col4\" >0.000000</td>\n",
              "      <td id=\"T_4cf60_row1_col5\" class=\"data row1 col5\" >1.000000</td>\n",
              "      <td id=\"T_4cf60_row1_col6\" class=\"data row1 col6\" >1.000000</td>\n",
              "      <td id=\"T_4cf60_row1_col7\" class=\"data row1 col7\" >1.000000</td>\n",
              "    </tr>\n",
              "    <tr>\n",
              "      <th id=\"T_4cf60_level0_row2\" class=\"row_heading level0 row2\" >chest pain type</th>\n",
              "      <td id=\"T_4cf60_row2_col0\" class=\"data row2 col0\" >270.000000</td>\n",
              "      <td id=\"T_4cf60_row2_col1\" class=\"data row2 col1\" >3.174074</td>\n",
              "      <td id=\"T_4cf60_row2_col2\" class=\"data row2 col2\" >0.950090</td>\n",
              "      <td id=\"T_4cf60_row2_col3\" class=\"data row2 col3\" >1.000000</td>\n",
              "      <td id=\"T_4cf60_row2_col4\" class=\"data row2 col4\" >3.000000</td>\n",
              "      <td id=\"T_4cf60_row2_col5\" class=\"data row2 col5\" >3.000000</td>\n",
              "      <td id=\"T_4cf60_row2_col6\" class=\"data row2 col6\" >4.000000</td>\n",
              "      <td id=\"T_4cf60_row2_col7\" class=\"data row2 col7\" >4.000000</td>\n",
              "    </tr>\n",
              "    <tr>\n",
              "      <th id=\"T_4cf60_level0_row3\" class=\"row_heading level0 row3\" >resting blood pressure</th>\n",
              "      <td id=\"T_4cf60_row3_col0\" class=\"data row3 col0\" >270.000000</td>\n",
              "      <td id=\"T_4cf60_row3_col1\" class=\"data row3 col1\" >131.344444</td>\n",
              "      <td id=\"T_4cf60_row3_col2\" class=\"data row3 col2\" >17.861608</td>\n",
              "      <td id=\"T_4cf60_row3_col3\" class=\"data row3 col3\" >94.000000</td>\n",
              "      <td id=\"T_4cf60_row3_col4\" class=\"data row3 col4\" >120.000000</td>\n",
              "      <td id=\"T_4cf60_row3_col5\" class=\"data row3 col5\" >130.000000</td>\n",
              "      <td id=\"T_4cf60_row3_col6\" class=\"data row3 col6\" >140.000000</td>\n",
              "      <td id=\"T_4cf60_row3_col7\" class=\"data row3 col7\" >200.000000</td>\n",
              "    </tr>\n",
              "    <tr>\n",
              "      <th id=\"T_4cf60_level0_row4\" class=\"row_heading level0 row4\" >serum cholestoral</th>\n",
              "      <td id=\"T_4cf60_row4_col0\" class=\"data row4 col0\" >270.000000</td>\n",
              "      <td id=\"T_4cf60_row4_col1\" class=\"data row4 col1\" >249.659259</td>\n",
              "      <td id=\"T_4cf60_row4_col2\" class=\"data row4 col2\" >51.686237</td>\n",
              "      <td id=\"T_4cf60_row4_col3\" class=\"data row4 col3\" >126.000000</td>\n",
              "      <td id=\"T_4cf60_row4_col4\" class=\"data row4 col4\" >213.000000</td>\n",
              "      <td id=\"T_4cf60_row4_col5\" class=\"data row4 col5\" >245.000000</td>\n",
              "      <td id=\"T_4cf60_row4_col6\" class=\"data row4 col6\" >280.000000</td>\n",
              "      <td id=\"T_4cf60_row4_col7\" class=\"data row4 col7\" >564.000000</td>\n",
              "    </tr>\n",
              "    <tr>\n",
              "      <th id=\"T_4cf60_level0_row5\" class=\"row_heading level0 row5\" >fasting blood sugar</th>\n",
              "      <td id=\"T_4cf60_row5_col0\" class=\"data row5 col0\" >270.000000</td>\n",
              "      <td id=\"T_4cf60_row5_col1\" class=\"data row5 col1\" >0.148148</td>\n",
              "      <td id=\"T_4cf60_row5_col2\" class=\"data row5 col2\" >0.355906</td>\n",
              "      <td id=\"T_4cf60_row5_col3\" class=\"data row5 col3\" >0.000000</td>\n",
              "      <td id=\"T_4cf60_row5_col4\" class=\"data row5 col4\" >0.000000</td>\n",
              "      <td id=\"T_4cf60_row5_col5\" class=\"data row5 col5\" >0.000000</td>\n",
              "      <td id=\"T_4cf60_row5_col6\" class=\"data row5 col6\" >0.000000</td>\n",
              "      <td id=\"T_4cf60_row5_col7\" class=\"data row5 col7\" >1.000000</td>\n",
              "    </tr>\n",
              "    <tr>\n",
              "      <th id=\"T_4cf60_level0_row6\" class=\"row_heading level0 row6\" >resting electrocardiographic results</th>\n",
              "      <td id=\"T_4cf60_row6_col0\" class=\"data row6 col0\" >270.000000</td>\n",
              "      <td id=\"T_4cf60_row6_col1\" class=\"data row6 col1\" >1.022222</td>\n",
              "      <td id=\"T_4cf60_row6_col2\" class=\"data row6 col2\" >0.997891</td>\n",
              "      <td id=\"T_4cf60_row6_col3\" class=\"data row6 col3\" >0.000000</td>\n",
              "      <td id=\"T_4cf60_row6_col4\" class=\"data row6 col4\" >0.000000</td>\n",
              "      <td id=\"T_4cf60_row6_col5\" class=\"data row6 col5\" >2.000000</td>\n",
              "      <td id=\"T_4cf60_row6_col6\" class=\"data row6 col6\" >2.000000</td>\n",
              "      <td id=\"T_4cf60_row6_col7\" class=\"data row6 col7\" >2.000000</td>\n",
              "    </tr>\n",
              "    <tr>\n",
              "      <th id=\"T_4cf60_level0_row7\" class=\"row_heading level0 row7\" >max heart rate</th>\n",
              "      <td id=\"T_4cf60_row7_col0\" class=\"data row7 col0\" >270.000000</td>\n",
              "      <td id=\"T_4cf60_row7_col1\" class=\"data row7 col1\" >149.677778</td>\n",
              "      <td id=\"T_4cf60_row7_col2\" class=\"data row7 col2\" >23.165717</td>\n",
              "      <td id=\"T_4cf60_row7_col3\" class=\"data row7 col3\" >71.000000</td>\n",
              "      <td id=\"T_4cf60_row7_col4\" class=\"data row7 col4\" >133.000000</td>\n",
              "      <td id=\"T_4cf60_row7_col5\" class=\"data row7 col5\" >153.500000</td>\n",
              "      <td id=\"T_4cf60_row7_col6\" class=\"data row7 col6\" >166.000000</td>\n",
              "      <td id=\"T_4cf60_row7_col7\" class=\"data row7 col7\" >202.000000</td>\n",
              "    </tr>\n",
              "    <tr>\n",
              "      <th id=\"T_4cf60_level0_row8\" class=\"row_heading level0 row8\" >exercise induced angina</th>\n",
              "      <td id=\"T_4cf60_row8_col0\" class=\"data row8 col0\" >270.000000</td>\n",
              "      <td id=\"T_4cf60_row8_col1\" class=\"data row8 col1\" >0.329630</td>\n",
              "      <td id=\"T_4cf60_row8_col2\" class=\"data row8 col2\" >0.470952</td>\n",
              "      <td id=\"T_4cf60_row8_col3\" class=\"data row8 col3\" >0.000000</td>\n",
              "      <td id=\"T_4cf60_row8_col4\" class=\"data row8 col4\" >0.000000</td>\n",
              "      <td id=\"T_4cf60_row8_col5\" class=\"data row8 col5\" >0.000000</td>\n",
              "      <td id=\"T_4cf60_row8_col6\" class=\"data row8 col6\" >1.000000</td>\n",
              "      <td id=\"T_4cf60_row8_col7\" class=\"data row8 col7\" >1.000000</td>\n",
              "    </tr>\n",
              "    <tr>\n",
              "      <th id=\"T_4cf60_level0_row9\" class=\"row_heading level0 row9\" >oldpeak</th>\n",
              "      <td id=\"T_4cf60_row9_col0\" class=\"data row9 col0\" >270.000000</td>\n",
              "      <td id=\"T_4cf60_row9_col1\" class=\"data row9 col1\" >1.050000</td>\n",
              "      <td id=\"T_4cf60_row9_col2\" class=\"data row9 col2\" >1.145210</td>\n",
              "      <td id=\"T_4cf60_row9_col3\" class=\"data row9 col3\" >0.000000</td>\n",
              "      <td id=\"T_4cf60_row9_col4\" class=\"data row9 col4\" >0.000000</td>\n",
              "      <td id=\"T_4cf60_row9_col5\" class=\"data row9 col5\" >0.800000</td>\n",
              "      <td id=\"T_4cf60_row9_col6\" class=\"data row9 col6\" >1.600000</td>\n",
              "      <td id=\"T_4cf60_row9_col7\" class=\"data row9 col7\" >6.200000</td>\n",
              "    </tr>\n",
              "    <tr>\n",
              "      <th id=\"T_4cf60_level0_row10\" class=\"row_heading level0 row10\" >ST segment</th>\n",
              "      <td id=\"T_4cf60_row10_col0\" class=\"data row10 col0\" >270.000000</td>\n",
              "      <td id=\"T_4cf60_row10_col1\" class=\"data row10 col1\" >1.585185</td>\n",
              "      <td id=\"T_4cf60_row10_col2\" class=\"data row10 col2\" >0.614390</td>\n",
              "      <td id=\"T_4cf60_row10_col3\" class=\"data row10 col3\" >1.000000</td>\n",
              "      <td id=\"T_4cf60_row10_col4\" class=\"data row10 col4\" >1.000000</td>\n",
              "      <td id=\"T_4cf60_row10_col5\" class=\"data row10 col5\" >2.000000</td>\n",
              "      <td id=\"T_4cf60_row10_col6\" class=\"data row10 col6\" >2.000000</td>\n",
              "      <td id=\"T_4cf60_row10_col7\" class=\"data row10 col7\" >3.000000</td>\n",
              "    </tr>\n",
              "    <tr>\n",
              "      <th id=\"T_4cf60_level0_row11\" class=\"row_heading level0 row11\" >major vessels</th>\n",
              "      <td id=\"T_4cf60_row11_col0\" class=\"data row11 col0\" >270.000000</td>\n",
              "      <td id=\"T_4cf60_row11_col1\" class=\"data row11 col1\" >0.670370</td>\n",
              "      <td id=\"T_4cf60_row11_col2\" class=\"data row11 col2\" >0.943896</td>\n",
              "      <td id=\"T_4cf60_row11_col3\" class=\"data row11 col3\" >0.000000</td>\n",
              "      <td id=\"T_4cf60_row11_col4\" class=\"data row11 col4\" >0.000000</td>\n",
              "      <td id=\"T_4cf60_row11_col5\" class=\"data row11 col5\" >0.000000</td>\n",
              "      <td id=\"T_4cf60_row11_col6\" class=\"data row11 col6\" >1.000000</td>\n",
              "      <td id=\"T_4cf60_row11_col7\" class=\"data row11 col7\" >3.000000</td>\n",
              "    </tr>\n",
              "    <tr>\n",
              "      <th id=\"T_4cf60_level0_row12\" class=\"row_heading level0 row12\" >thal</th>\n",
              "      <td id=\"T_4cf60_row12_col0\" class=\"data row12 col0\" >270.000000</td>\n",
              "      <td id=\"T_4cf60_row12_col1\" class=\"data row12 col1\" >4.696296</td>\n",
              "      <td id=\"T_4cf60_row12_col2\" class=\"data row12 col2\" >1.940659</td>\n",
              "      <td id=\"T_4cf60_row12_col3\" class=\"data row12 col3\" >3.000000</td>\n",
              "      <td id=\"T_4cf60_row12_col4\" class=\"data row12 col4\" >3.000000</td>\n",
              "      <td id=\"T_4cf60_row12_col5\" class=\"data row12 col5\" >3.000000</td>\n",
              "      <td id=\"T_4cf60_row12_col6\" class=\"data row12 col6\" >7.000000</td>\n",
              "      <td id=\"T_4cf60_row12_col7\" class=\"data row12 col7\" >7.000000</td>\n",
              "    </tr>\n",
              "    <tr>\n",
              "      <th id=\"T_4cf60_level0_row13\" class=\"row_heading level0 row13\" >heart disease</th>\n",
              "      <td id=\"T_4cf60_row13_col0\" class=\"data row13 col0\" >270.000000</td>\n",
              "      <td id=\"T_4cf60_row13_col1\" class=\"data row13 col1\" >1.444444</td>\n",
              "      <td id=\"T_4cf60_row13_col2\" class=\"data row13 col2\" >0.497827</td>\n",
              "      <td id=\"T_4cf60_row13_col3\" class=\"data row13 col3\" >1.000000</td>\n",
              "      <td id=\"T_4cf60_row13_col4\" class=\"data row13 col4\" >1.000000</td>\n",
              "      <td id=\"T_4cf60_row13_col5\" class=\"data row13 col5\" >1.000000</td>\n",
              "      <td id=\"T_4cf60_row13_col6\" class=\"data row13 col6\" >2.000000</td>\n",
              "      <td id=\"T_4cf60_row13_col7\" class=\"data row13 col7\" >2.000000</td>\n",
              "    </tr>\n",
              "  </tbody>\n",
              "</table>\n"
            ]
          },
          "metadata": {},
          "execution_count": 9
        }
      ]
    },
    {
      "cell_type": "code",
      "source": [
        "names = ['age', 'sex ', 'chest pain type', 'resting blood pressure',\n",
        "       'serum cholestoral', 'fasting blood sugar',\n",
        "       'resting electrocardiographic results', 'max heart rate',\n",
        "       'exercise induced angina', 'oldpeak', 'ST segment', 'major vessels',\n",
        "       'thal', 'heart disease']\n",
        "\n",
        "# Set the custom font sizes\n",
        "plt.rc('font', size=14)\n",
        "plt.rc('axes', labelsize=14, titlesize=14)\n",
        "plt.rc('legend', fontsize=14)\n",
        "plt.rc('xtick', labelsize=10)\n",
        "plt.rc('ytick', labelsize=10)\n",
        "\n",
        "# Create the box plots\n",
        "heart.plot(kind='box', subplots=True, layout=(4, 4), sharex=False, sharey=False, figsize=(8, 8), y=names)\n",
        "\n",
        "# Adjust the layout and spacing\n",
        "plt.tight_layout()\n",
        "plt.show()"
      ],
      "metadata": {
        "colab": {
          "base_uri": "https://localhost:8080/",
          "height": 795
        },
        "id": "e7QrKbqUzhLC",
        "outputId": "baa49bc5-374e-4fbe-a173-a1be56034d64"
      },
      "execution_count": null,
      "outputs": [
        {
          "output_type": "display_data",
          "data": {
            "text/plain": [
              "<Figure size 800x800 with 16 Axes>"
            ],
            "image/png": "[encoded data removed]"
          },
          "metadata": {}
        }
      ]
    },
    {
      "cell_type": "code",
      "source": [
        "print(heart['heart disease'].value_counts())"
      ],
      "metadata": {
        "colab": {
          "base_uri": "https://localhost:8080/"
        },
        "id": "OGM0FgEizn61",
        "outputId": "e177bb15-6d36-4ce6-afca-50cefc94900e"
      },
      "execution_count": null,
      "outputs": [
        {
          "output_type": "stream",
          "name": "stdout",
          "text": [
            "1    150\n",
            "2    120\n",
            "Name: heart disease, dtype: int64\n"
          ]
        }
      ]
    },
    {
      "cell_type": "code",
      "source": [
        "plt.figure(figsize=(5,3),dpi=100)\n",
        "ax = sns.countplot(data=heart, x='heart disease', palette=\"Set2\")\n",
        "for p in ax.patches:\n",
        "    x=p.get_bbox().get_points()[:,0]\n",
        "    y=p.get_bbox().get_points()[1,1]\n",
        "    ax.annotate('{:.1f}%'.format(100.*y/len(heart)), (x.mean(), y),\n",
        "            ha='center', va='bottom')"
      ],
      "metadata": {
        "colab": {
          "base_uri": "https://localhost:8080/",
          "height": 324
        },
        "id": "FhE4rlzJzr_n",
        "outputId": "54c0a483-f938-42f4-cf91-7d11950ec01a"
      },
      "execution_count": null,
      "outputs": [
        {
          "output_type": "display_data",
          "data": {
            "text/plain": [
              "<Figure size 500x300 with 1 Axes>"
            ],
            "image/png": "[encoded data removed]"
          },
          "metadata": {}
        }
      ]
    },
    {
      "cell_type": "code",
      "source": [
        "X=heart.drop('heart disease',axis=1)\n",
        "y=heart['heart disease']"
      ],
      "metadata": {
        "id": "ZYu-jqrtzxo7"
      },
      "execution_count": null,
      "outputs": []
    },
    {
      "cell_type": "code",
      "source": [
        "from sklearn.model_selection import train_test_split\n",
        "X_train, X_test, y_train, y_test = train_test_split(X, y, test_size = 0.20, random_state = 42, stratify = y)"
      ],
      "metadata": {
        "id": "IRI0G9zJz1kY"
      },
      "execution_count": null,
      "outputs": []
    },
    {
      "cell_type": "code",
      "source": [
        "print(X.shape, X_train.shape, X_test.shape)"
      ],
      "metadata": {
        "colab": {
          "base_uri": "https://localhost:8080/"
        },
        "id": "mqpfavp6z3S5",
        "outputId": "c7290e78-5cc5-44a3-dc17-cc71ae3ed079"
      },
      "execution_count": null,
      "outputs": [
        {
          "output_type": "stream",
          "name": "stdout",
          "text": [
            "(270, 13) (216, 13) (54, 13)\n"
          ]
        }
      ]
    },
    {
      "cell_type": "code",
      "source": [
        "from sklearn.preprocessing import StandardScaler\n",
        "df2 = heart.copy()\n",
        "ss = StandardScaler()\n",
        "df2[['age', 'resting blood pressure','serum cholestoral', 'max heart rate','oldpeak']] = ss.fit_transform(df2[['age','resting blood pressure','serum cholestoral', 'max heart rate','oldpeak']])"
      ],
      "metadata": {
        "id": "dxw4M_zkz7-P"
      },
      "execution_count": null,
      "outputs": []
    },
    {
      "cell_type": "code",
      "source": [
        "for col in heart.columns:\n",
        "    if heart[col].dtypes != 'object':\n",
        "        lower_limit, upper_limit = heart[col].quantile([0.25,0.75])\n",
        "        IQR = upper_limit - lower_limit\n",
        "        lower_whisker = lower_limit - 1.5 * IQR\n",
        "        upper_whisker = upper_limit + 1.5 * IQR\n",
        "        heart[col] = np.where(heart[col]>upper_whisker,upper_whisker,np.where(heart[col]<lower_whisker,lower_whisker,heart[col]))"
      ],
      "metadata": {
        "id": "yIZnUbcpz-ot"
      },
      "execution_count": null,
      "outputs": []
    },
    {
      "cell_type": "code",
      "source": [
        "from sklearn.linear_model import LogisticRegression\n",
        "from sklearn.neighbors import KNeighborsClassifier\n",
        "from sklearn.tree import DecisionTreeClassifier\n",
        "from sklearn.ensemble import RandomForestClassifier"
      ],
      "metadata": {
        "id": "FENoF20U0Bdh"
      },
      "execution_count": null,
      "outputs": []
    },
    {
      "cell_type": "code",
      "source": [
        "knn =KNeighborsClassifier(n_neighbors=5)\n",
        "logreg = LogisticRegression()\n",
        "dt = DecisionTreeClassifier(random_state=0)\n",
        "rf = RandomForestClassifier()"
      ],
      "metadata": {
        "id": "1_vzpXVu0Pq1"
      },
      "execution_count": null,
      "outputs": []
    },
    {
      "cell_type": "code",
      "source": [
        "knn.fit(X_train, y_train)"
      ],
      "metadata": {
        "colab": {
          "base_uri": "https://localhost:8080/",
          "height": 75
        },
        "id": "Vl9B6_ay0SU7",
        "outputId": "60d3791b-550d-425b-85b7-1b1654d127f1"
      },
      "execution_count": null,
      "outputs": [
        {
          "output_type": "execute_result",
          "data": {
            "text/plain": [
              "KNeighborsClassifier()"
            ],
            "text/html": [
              "<style>#sk-container-id-1 {color: black;background-color: white;}#sk-container-id-1 pre{padding: 0;}#sk-container-id-1 div.sk-toggleable {background-color: white;}#sk-container-id-1 label.sk-toggleable__label {cursor: pointer;display: block;width: 100%;margin-bottom: 0;padding: 0.3em;box-sizing: border-box;text-align: center;}#sk-container-id-1 label.sk-toggleable__label-arrow:before {content: \"▸\";float: left;margin-right: 0.25em;color: #696969;}#sk-container-id-1 label.sk-toggleable__label-arrow:hover:before {color: black;}#sk-container-id-1 div.sk-estimator:hover label.sk-toggleable__label-arrow:before {color: black;}#sk-container-id-1 div.sk-toggleable__content {max-height: 0;max-width: 0;overflow: hidden;text-align: left;background-color: #f0f8ff;}#sk-container-id-1 div.sk-toggleable__content pre {margin: 0.2em;color: black;border-radius: 0.25em;background-color: #f0f8ff;}#sk-container-id-1 input.sk-toggleable__control:checked~div.sk-toggleable__content {max-height: 200px;max-width: 100%;overflow: auto;}#sk-container-id-1 input.sk-toggleable__control:checked~label.sk-toggleable__label-arrow:before {content: \"▾\";}#sk-container-id-1 div.sk-estimator input.sk-toggleable__control:checked~label.sk-toggleable__label {background-color: #d4ebff;}#sk-container-id-1 div.sk-label input.sk-toggleable__control:checked~label.sk-toggleable__label {background-color: #d4ebff;}#sk-container-id-1 input.sk-hidden--visually {border: 0;clip: rect(1px 1px 1px 1px);clip: rect(1px, 1px, 1px, 1px);height: 1px;margin: -1px;overflow: hidden;padding: 0;position: absolute;width: 1px;}#sk-container-id-1 div.sk-estimator {font-family: monospace;background-color: #f0f8ff;border: 1px dotted black;border-radius: 0.25em;box-sizing: border-box;margin-bottom: 0.5em;}#sk-container-id-1 div.sk-estimator:hover {background-color: #d4ebff;}#sk-container-id-1 div.sk-parallel-item::after {content: \"\";width: 100%;border-bottom: 1px solid gray;flex-grow: 1;}#sk-container-id-1 div.sk-label:hover label.sk-toggleable__label {background-color: #d4ebff;}#sk-container-id-1 div.sk-serial::before {content: \"\";position: absolute;border-left: 1px solid gray;box-sizing: border-box;top: 0;bottom: 0;left: 50%;z-index: 0;}#sk-container-id-1 div.sk-serial {display: flex;flex-direction: column;align-items: center;background-color: white;padding-right: 0.2em;padding-left: 0.2em;position: relative;}#sk-container-id-1 div.sk-item {position: relative;z-index: 1;}#sk-container-id-1 div.sk-parallel {display: flex;align-items: stretch;justify-content: center;background-color: white;position: relative;}#sk-container-id-1 div.sk-item::before, #sk-container-id-1 div.sk-parallel-item::before {content: \"\";position: absolute;border-left: 1px solid gray;box-sizing: border-box;top: 0;bottom: 0;left: 50%;z-index: -1;}#sk-container-id-1 div.sk-parallel-item {display: flex;flex-direction: column;z-index: 1;position: relative;background-color: white;}#sk-container-id-1 div.sk-parallel-item:first-child::after {align-self: flex-end;width: 50%;}#sk-container-id-1 div.sk-parallel-item:last-child::after {align-self: flex-start;width: 50%;}#sk-container-id-1 div.sk-parallel-item:only-child::after {width: 0;}#sk-container-id-1 div.sk-dashed-wrapped {border: 1px dashed gray;margin: 0 0.4em 0.5em 0.4em;box-sizing: border-box;padding-bottom: 0.4em;background-color: white;}#sk-container-id-1 div.sk-label label {font-family: monospace;font-weight: bold;display: inline-block;line-height: 1.2em;}#sk-container-id-1 div.sk-label-container {text-align: center;}#sk-container-id-1 div.sk-container {/* jupyter's `normalize.less` sets `[hidden] { display: none; }` but bootstrap.min.css set `[hidden] { display: none !important; }` so we also need the `!important` here to be able to override the default hidden behavior on the sphinx rendered scikit-learn.org. See: https://github.com/scikit-learn/scikit-learn/issues/21755 */display: inline-block !important;position: relative;}#sk-container-id-1 div.sk-text-repr-fallback {display: none;}</style><div id=\"sk-container-id-1\" class=\"sk-top-container\"><div class=\"sk-text-repr-fallback\"><pre>KNeighborsClassifier()</pre><b>In a Jupyter environment, please rerun this cell to show the HTML representation or trust the notebook. <br />On GitHub, the HTML representation is unable to render, please try loading this page with nbviewer.org.</b></div><div class=\"sk-container\" hidden><div class=\"sk-item\"><div class=\"sk-estimator sk-toggleable\"><input class=\"sk-toggleable__control sk-hidden--visually\" id=\"sk-estimator-id-1\" type=\"checkbox\" checked><label for=\"sk-estimator-id-1\" class=\"sk-toggleable__label sk-toggleable__label-arrow\">KNeighborsClassifier</label><div class=\"sk-toggleable__content\"><pre>KNeighborsClassifier()</pre></div></div></div></div></div>"
            ]
          },
          "metadata": {},
          "execution_count": 20
        }
      ]
    },
    {
      "cell_type": "code",
      "source": [
        "logreg.fit(X_train, y_train)"
      ],
      "metadata": {
        "colab": {
          "base_uri": "https://localhost:8080/",
          "height": 214
        },
        "id": "AgjIuNr60WNR",
        "outputId": "adc50d8b-ea94-418d-d6c0-82820c92cb89"
      },
      "execution_count": null,
      "outputs": [
        {
          "output_type": "stream",
          "name": "stderr",
          "text": [
            "/usr/local/lib/python3.10/dist-packages/sklearn/linear_model/_logistic.py:458: ConvergenceWarning: lbfgs failed to converge (status=1):\n",
            "STOP: TOTAL NO. of ITERATIONS REACHED LIMIT.\n",
            "\n",
            "Increase the number of iterations (max_iter) or scale the data as shown in:\n",
            "    https://scikit-learn.org/stable/modules/preprocessing.html\n",
            "Please also refer to the documentation for alternative solver options:\n",
            "    https://scikit-learn.org/stable/modules/linear_model.html#logistic-regression\n",
            "  n_iter_i = _check_optimize_result(\n"
          ]
        },
        {
          "output_type": "execute_result",
          "data": {
            "text/plain": [
              "LogisticRegression()"
            ],
            "text/html": [
              "<style>#sk-container-id-2 {color: black;background-color: white;}#sk-container-id-2 pre{padding: 0;}#sk-container-id-2 div.sk-toggleable {background-color: white;}#sk-container-id-2 label.sk-toggleable__label {cursor: pointer;display: block;width: 100%;margin-bottom: 0;padding: 0.3em;box-sizing: border-box;text-align: center;}#sk-container-id-2 label.sk-toggleable__label-arrow:before {content: \"▸\";float: left;margin-right: 0.25em;color: #696969;}#sk-container-id-2 label.sk-toggleable__label-arrow:hover:before {color: black;}#sk-container-id-2 div.sk-estimator:hover label.sk-toggleable__label-arrow:before {color: black;}#sk-container-id-2 div.sk-toggleable__content {max-height: 0;max-width: 0;overflow: hidden;text-align: left;background-color: #f0f8ff;}#sk-container-id-2 div.sk-toggleable__content pre {margin: 0.2em;color: black;border-radius: 0.25em;background-color: #f0f8ff;}#sk-container-id-2 input.sk-toggleable__control:checked~div.sk-toggleable__content {max-height: 200px;max-width: 100%;overflow: auto;}#sk-container-id-2 input.sk-toggleable__control:checked~label.sk-toggleable__label-arrow:before {content: \"▾\";}#sk-container-id-2 div.sk-estimator input.sk-toggleable__control:checked~label.sk-toggleable__label {background-color: #d4ebff;}#sk-container-id-2 div.sk-label input.sk-toggleable__control:checked~label.sk-toggleable__label {background-color: #d4ebff;}#sk-container-id-2 input.sk-hidden--visually {border: 0;clip: rect(1px 1px 1px 1px);clip: rect(1px, 1px, 1px, 1px);height: 1px;margin: -1px;overflow: hidden;padding: 0;position: absolute;width: 1px;}#sk-container-id-2 div.sk-estimator {font-family: monospace;background-color: #f0f8ff;border: 1px dotted black;border-radius: 0.25em;box-sizing: border-box;margin-bottom: 0.5em;}#sk-container-id-2 div.sk-estimator:hover {background-color: #d4ebff;}#sk-container-id-2 div.sk-parallel-item::after {content: \"\";width: 100%;border-bottom: 1px solid gray;flex-grow: 1;}#sk-container-id-2 div.sk-label:hover label.sk-toggleable__label {background-color: #d4ebff;}#sk-container-id-2 div.sk-serial::before {content: \"\";position: absolute;border-left: 1px solid gray;box-sizing: border-box;top: 0;bottom: 0;left: 50%;z-index: 0;}#sk-container-id-2 div.sk-serial {display: flex;flex-direction: column;align-items: center;background-color: white;padding-right: 0.2em;padding-left: 0.2em;position: relative;}#sk-container-id-2 div.sk-item {position: relative;z-index: 1;}#sk-container-id-2 div.sk-parallel {display: flex;align-items: stretch;justify-content: center;background-color: white;position: relative;}#sk-container-id-2 div.sk-item::before, #sk-container-id-2 div.sk-parallel-item::before {content: \"\";position: absolute;border-left: 1px solid gray;box-sizing: border-box;top: 0;bottom: 0;left: 50%;z-index: -1;}#sk-container-id-2 div.sk-parallel-item {display: flex;flex-direction: column;z-index: 1;position: relative;background-color: white;}#sk-container-id-2 div.sk-parallel-item:first-child::after {align-self: flex-end;width: 50%;}#sk-container-id-2 div.sk-parallel-item:last-child::after {align-self: flex-start;width: 50%;}#sk-container-id-2 div.sk-parallel-item:only-child::after {width: 0;}#sk-container-id-2 div.sk-dashed-wrapped {border: 1px dashed gray;margin: 0 0.4em 0.5em 0.4em;box-sizing: border-box;padding-bottom: 0.4em;background-color: white;}#sk-container-id-2 div.sk-label label {font-family: monospace;font-weight: bold;display: inline-block;line-height: 1.2em;}#sk-container-id-2 div.sk-label-container {text-align: center;}#sk-container-id-2 div.sk-container {/* jupyter's `normalize.less` sets `[hidden] { display: none; }` but bootstrap.min.css set `[hidden] { display: none !important; }` so we also need the `!important` here to be able to override the default hidden behavior on the sphinx rendered scikit-learn.org. See: https://github.com/scikit-learn/scikit-learn/issues/21755 */display: inline-block !important;position: relative;}#sk-container-id-2 div.sk-text-repr-fallback {display: none;}</style><div id=\"sk-container-id-2\" class=\"sk-top-container\"><div class=\"sk-text-repr-fallback\"><pre>LogisticRegression()</pre><b>In a Jupyter environment, please rerun this cell to show the HTML representation or trust the notebook. <br />On GitHub, the HTML representation is unable to render, please try loading this page with nbviewer.org.</b></div><div class=\"sk-container\" hidden><div class=\"sk-item\"><div class=\"sk-estimator sk-toggleable\"><input class=\"sk-toggleable__control sk-hidden--visually\" id=\"sk-estimator-id-2\" type=\"checkbox\" checked><label for=\"sk-estimator-id-2\" class=\"sk-toggleable__label sk-toggleable__label-arrow\">LogisticRegression</label><div class=\"sk-toggleable__content\"><pre>LogisticRegression()</pre></div></div></div></div></div>"
            ]
          },
          "metadata": {},
          "execution_count": 21
        }
      ]
    },
    {
      "cell_type": "code",
      "source": [
        "dt.fit(X_train, y_train)"
      ],
      "metadata": {
        "colab": {
          "base_uri": "https://localhost:8080/",
          "height": 75
        },
        "id": "Bot3RO5y0euG",
        "outputId": "2d416506-be03-457e-8613-e267cc07600c"
      },
      "execution_count": null,
      "outputs": [
        {
          "output_type": "execute_result",
          "data": {
            "text/plain": [
              "DecisionTreeClassifier(random_state=0)"
            ],
            "text/html": [
              "<style>#sk-container-id-3 {color: black;background-color: white;}#sk-container-id-3 pre{padding: 0;}#sk-container-id-3 div.sk-toggleable {background-color: white;}#sk-container-id-3 label.sk-toggleable__label {cursor: pointer;display: block;width: 100%;margin-bottom: 0;padding: 0.3em;box-sizing: border-box;text-align: center;}#sk-container-id-3 label.sk-toggleable__label-arrow:before {content: \"▸\";float: left;margin-right: 0.25em;color: #696969;}#sk-container-id-3 label.sk-toggleable__label-arrow:hover:before {color: black;}#sk-container-id-3 div.sk-estimator:hover label.sk-toggleable__label-arrow:before {color: black;}#sk-container-id-3 div.sk-toggleable__content {max-height: 0;max-width: 0;overflow: hidden;text-align: left;background-color: #f0f8ff;}#sk-container-id-3 div.sk-toggleable__content pre {margin: 0.2em;color: black;border-radius: 0.25em;background-color: #f0f8ff;}#sk-container-id-3 input.sk-toggleable__control:checked~div.sk-toggleable__content {max-height: 200px;max-width: 100%;overflow: auto;}#sk-container-id-3 input.sk-toggleable__control:checked~label.sk-toggleable__label-arrow:before {content: \"▾\";}#sk-container-id-3 div.sk-estimator input.sk-toggleable__control:checked~label.sk-toggleable__label {background-color: #d4ebff;}#sk-container-id-3 div.sk-label input.sk-toggleable__control:checked~label.sk-toggleable__label {background-color: #d4ebff;}#sk-container-id-3 input.sk-hidden--visually {border: 0;clip: rect(1px 1px 1px 1px);clip: rect(1px, 1px, 1px, 1px);height: 1px;margin: -1px;overflow: hidden;padding: 0;position: absolute;width: 1px;}#sk-container-id-3 div.sk-estimator {font-family: monospace;background-color: #f0f8ff;border: 1px dotted black;border-radius: 0.25em;box-sizing: border-box;margin-bottom: 0.5em;}#sk-container-id-3 div.sk-estimator:hover {background-color: #d4ebff;}#sk-container-id-3 div.sk-parallel-item::after {content: \"\";width: 100%;border-bottom: 1px solid gray;flex-grow: 1;}#sk-container-id-3 div.sk-label:hover label.sk-toggleable__label {background-color: #d4ebff;}#sk-container-id-3 div.sk-serial::before {content: \"\";position: absolute;border-left: 1px solid gray;box-sizing: border-box;top: 0;bottom: 0;left: 50%;z-index: 0;}#sk-container-id-3 div.sk-serial {display: flex;flex-direction: column;align-items: center;background-color: white;padding-right: 0.2em;padding-left: 0.2em;position: relative;}#sk-container-id-3 div.sk-item {position: relative;z-index: 1;}#sk-container-id-3 div.sk-parallel {display: flex;align-items: stretch;justify-content: center;background-color: white;position: relative;}#sk-container-id-3 div.sk-item::before, #sk-container-id-3 div.sk-parallel-item::before {content: \"\";position: absolute;border-left: 1px solid gray;box-sizing: border-box;top: 0;bottom: 0;left: 50%;z-index: -1;}#sk-container-id-3 div.sk-parallel-item {display: flex;flex-direction: column;z-index: 1;position: relative;background-color: white;}#sk-container-id-3 div.sk-parallel-item:first-child::after {align-self: flex-end;width: 50%;}#sk-container-id-3 div.sk-parallel-item:last-child::after {align-self: flex-start;width: 50%;}#sk-container-id-3 div.sk-parallel-item:only-child::after {width: 0;}#sk-container-id-3 div.sk-dashed-wrapped {border: 1px dashed gray;margin: 0 0.4em 0.5em 0.4em;box-sizing: border-box;padding-bottom: 0.4em;background-color: white;}#sk-container-id-3 div.sk-label label {font-family: monospace;font-weight: bold;display: inline-block;line-height: 1.2em;}#sk-container-id-3 div.sk-label-container {text-align: center;}#sk-container-id-3 div.sk-container {/* jupyter's `normalize.less` sets `[hidden] { display: none; }` but bootstrap.min.css set `[hidden] { display: none !important; }` so we also need the `!important` here to be able to override the default hidden behavior on the sphinx rendered scikit-learn.org. See: https://github.com/scikit-learn/scikit-learn/issues/21755 */display: inline-block !important;position: relative;}#sk-container-id-3 div.sk-text-repr-fallback {display: none;}</style><div id=\"sk-container-id-3\" class=\"sk-top-container\"><div class=\"sk-text-repr-fallback\"><pre>DecisionTreeClassifier(random_state=0)</pre><b>In a Jupyter environment, please rerun this cell to show the HTML representation or trust the notebook. <br />On GitHub, the HTML representation is unable to render, please try loading this page with nbviewer.org.</b></div><div class=\"sk-container\" hidden><div class=\"sk-item\"><div class=\"sk-estimator sk-toggleable\"><input class=\"sk-toggleable__control sk-hidden--visually\" id=\"sk-estimator-id-3\" type=\"checkbox\" checked><label for=\"sk-estimator-id-3\" class=\"sk-toggleable__label sk-toggleable__label-arrow\">DecisionTreeClassifier</label><div class=\"sk-toggleable__content\"><pre>DecisionTreeClassifier(random_state=0)</pre></div></div></div></div></div>"
            ]
          },
          "metadata": {},
          "execution_count": 22
        }
      ]
    },
    {
      "cell_type": "code",
      "source": [
        "rf.fit(X_train, y_train)"
      ],
      "metadata": {
        "colab": {
          "base_uri": "https://localhost:8080/",
          "height": 75
        },
        "id": "5XByWhAW0gnp",
        "outputId": "4c9106a3-a17a-4ffe-cef1-da6c88f79ac2"
      },
      "execution_count": null,
      "outputs": [
        {
          "output_type": "execute_result",
          "data": {
            "text/plain": [
              "RandomForestClassifier()"
            ],
            "text/html": [
              "<style>#sk-container-id-4 {color: black;background-color: white;}#sk-container-id-4 pre{padding: 0;}#sk-container-id-4 div.sk-toggleable {background-color: white;}#sk-container-id-4 label.sk-toggleable__label {cursor: pointer;display: block;width: 100%;margin-bottom: 0;padding: 0.3em;box-sizing: border-box;text-align: center;}#sk-container-id-4 label.sk-toggleable__label-arrow:before {content: \"▸\";float: left;margin-right: 0.25em;color: #696969;}#sk-container-id-4 label.sk-toggleable__label-arrow:hover:before {color: black;}#sk-container-id-4 div.sk-estimator:hover label.sk-toggleable__label-arrow:before {color: black;}#sk-container-id-4 div.sk-toggleable__content {max-height: 0;max-width: 0;overflow: hidden;text-align: left;background-color: #f0f8ff;}#sk-container-id-4 div.sk-toggleable__content pre {margin: 0.2em;color: black;border-radius: 0.25em;background-color: #f0f8ff;}#sk-container-id-4 input.sk-toggleable__control:checked~div.sk-toggleable__content {max-height: 200px;max-width: 100%;overflow: auto;}#sk-container-id-4 input.sk-toggleable__control:checked~label.sk-toggleable__label-arrow:before {content: \"▾\";}#sk-container-id-4 div.sk-estimator input.sk-toggleable__control:checked~label.sk-toggleable__label {background-color: #d4ebff;}#sk-container-id-4 div.sk-label input.sk-toggleable__control:checked~label.sk-toggleable__label {background-color: #d4ebff;}#sk-container-id-4 input.sk-hidden--visually {border: 0;clip: rect(1px 1px 1px 1px);clip: rect(1px, 1px, 1px, 1px);height: 1px;margin: -1px;overflow: hidden;padding: 0;position: absolute;width: 1px;}#sk-container-id-4 div.sk-estimator {font-family: monospace;background-color: #f0f8ff;border: 1px dotted black;border-radius: 0.25em;box-sizing: border-box;margin-bottom: 0.5em;}#sk-container-id-4 div.sk-estimator:hover {background-color: #d4ebff;}#sk-container-id-4 div.sk-parallel-item::after {content: \"\";width: 100%;border-bottom: 1px solid gray;flex-grow: 1;}#sk-container-id-4 div.sk-label:hover label.sk-toggleable__label {background-color: #d4ebff;}#sk-container-id-4 div.sk-serial::before {content: \"\";position: absolute;border-left: 1px solid gray;box-sizing: border-box;top: 0;bottom: 0;left: 50%;z-index: 0;}#sk-container-id-4 div.sk-serial {display: flex;flex-direction: column;align-items: center;background-color: white;padding-right: 0.2em;padding-left: 0.2em;position: relative;}#sk-container-id-4 div.sk-item {position: relative;z-index: 1;}#sk-container-id-4 div.sk-parallel {display: flex;align-items: stretch;justify-content: center;background-color: white;position: relative;}#sk-container-id-4 div.sk-item::before, #sk-container-id-4 div.sk-parallel-item::before {content: \"\";position: absolute;border-left: 1px solid gray;box-sizing: border-box;top: 0;bottom: 0;left: 50%;z-index: -1;}#sk-container-id-4 div.sk-parallel-item {display: flex;flex-direction: column;z-index: 1;position: relative;background-color: white;}#sk-container-id-4 div.sk-parallel-item:first-child::after {align-self: flex-end;width: 50%;}#sk-container-id-4 div.sk-parallel-item:last-child::after {align-self: flex-start;width: 50%;}#sk-container-id-4 div.sk-parallel-item:only-child::after {width: 0;}#sk-container-id-4 div.sk-dashed-wrapped {border: 1px dashed gray;margin: 0 0.4em 0.5em 0.4em;box-sizing: border-box;padding-bottom: 0.4em;background-color: white;}#sk-container-id-4 div.sk-label label {font-family: monospace;font-weight: bold;display: inline-block;line-height: 1.2em;}#sk-container-id-4 div.sk-label-container {text-align: center;}#sk-container-id-4 div.sk-container {/* jupyter's `normalize.less` sets `[hidden] { display: none; }` but bootstrap.min.css set `[hidden] { display: none !important; }` so we also need the `!important` here to be able to override the default hidden behavior on the sphinx rendered scikit-learn.org. See: https://github.com/scikit-learn/scikit-learn/issues/21755 */display: inline-block !important;position: relative;}#sk-container-id-4 div.sk-text-repr-fallback {display: none;}</style><div id=\"sk-container-id-4\" class=\"sk-top-container\"><div class=\"sk-text-repr-fallback\"><pre>RandomForestClassifier()</pre><b>In a Jupyter environment, please rerun this cell to show the HTML representation or trust the notebook. <br />On GitHub, the HTML representation is unable to render, please try loading this page with nbviewer.org.</b></div><div class=\"sk-container\" hidden><div class=\"sk-item\"><div class=\"sk-estimator sk-toggleable\"><input class=\"sk-toggleable__control sk-hidden--visually\" id=\"sk-estimator-id-4\" type=\"checkbox\" checked><label for=\"sk-estimator-id-4\" class=\"sk-toggleable__label sk-toggleable__label-arrow\">RandomForestClassifier</label><div class=\"sk-toggleable__content\"><pre>RandomForestClassifier()</pre></div></div></div></div></div>"
            ]
          },
          "metadata": {},
          "execution_count": 23
        }
      ]
    },
    {
      "cell_type": "code",
      "source": [
        "from sklearn.metrics import accuracy_score\n",
        "\n",
        "y_pred = knn.predict(X_test)\n",
        "print('K-Nearest Neighbors  Test Accuracy ', accuracy_score(y_test, y_pred ))\n",
        "\n",
        "y_pred = logreg.predict(X_test)\n",
        "print('Logistic Regression Test Accuracy ', accuracy_score(y_test, y_pred ))\n",
        "\n",
        "y_pred = dt.predict(X_test)\n",
        "print('Decision Tree Test Accuracy ', accuracy_score(y_test, y_pred ))\n",
        "\n",
        "y_pred = rf.predict(X_test)\n",
        "print('Random Forest Test Accuracy ', accuracy_score(y_test, y_pred ))"
      ],
      "metadata": {
        "colab": {
          "base_uri": "https://localhost:8080/"
        },
        "id": "iMLBoprI0kDl",
        "outputId": "e436c119-80a6-434a-ef58-1626c0739ce4"
      },
      "execution_count": null,
      "outputs": [
        {
          "output_type": "stream",
          "name": "stdout",
          "text": [
            "K-Nearest Neighbors  Test Accuracy  0.7222222222222222\n",
            "Logistic Regression Test Accuracy  0.8518518518518519\n",
            "Decision Tree Test Accuracy  0.7592592592592593\n",
            "Random Forest Test Accuracy  0.8333333333333334\n"
          ]
        }
      ]
    },
    {
      "cell_type": "code",
      "source": [
        "from sklearn.metrics import classification_report\n",
        "\n",
        "def plot_classification_report(y_train, y_pred1, y_test, y_pred2, c_name):\n",
        "    print(\"-\"*25,c_name,\"(Test SET)\",\"-\"*25)\n",
        "    print(classification_report(y_test, y_pred2))"
      ],
      "metadata": {
        "id": "Vcd0nfeF0nCR"
      },
      "execution_count": null,
      "outputs": []
    },
    {
      "cell_type": "code",
      "source": [
        "c_name= \"K-Nearest Neighbors\"\n",
        "plot_classification_report(y_train, knn.predict(X_train), y_test, knn.predict(X_test), c_name)\n",
        "\n",
        "c_name= \"Logistic Regression\"\n",
        "plot_classification_report(y_train, logreg.predict(X_train), y_test, logreg.predict(X_test), c_name)\n",
        "\n",
        "c_name= \"Decision Tree\"\n",
        "plot_classification_report(y_train, dt.predict(X_train), y_test, dt.predict(X_test), c_name)\n",
        "\n",
        "c_name= \"Random Forest\"\n",
        "plot_classification_report(y_train, rf.predict(X_train), y_test, rf.predict(X_test), c_name)"
      ],
      "metadata": {
        "colab": {
          "base_uri": "https://localhost:8080/"
        },
        "id": "DFbtnwa50pyA",
        "outputId": "dbaa356c-d901-4203-8962-bcd74e1f9ace"
      },
      "execution_count": null,
      "outputs": [
        {
          "output_type": "stream",
          "name": "stdout",
          "text": [
            "------------------------- K-Nearest Neighbors (Test SET) -------------------------\n",
            "              precision    recall  f1-score   support\n",
            "\n",
            "           1       0.76      0.73      0.75        30\n",
            "           2       0.68      0.71      0.69        24\n",
            "\n",
            "    accuracy                           0.72        54\n",
            "   macro avg       0.72      0.72      0.72        54\n",
            "weighted avg       0.72      0.72      0.72        54\n",
            "\n",
            "------------------------- Logistic Regression (Test SET) -------------------------\n",
            "              precision    recall  f1-score   support\n",
            "\n",
            "           1       0.89      0.83      0.86        30\n",
            "           2       0.81      0.88      0.84        24\n",
            "\n",
            "    accuracy                           0.85        54\n",
            "   macro avg       0.85      0.85      0.85        54\n",
            "weighted avg       0.86      0.85      0.85        54\n",
            "\n",
            "------------------------- Decision Tree (Test SET) -------------------------\n",
            "              precision    recall  f1-score   support\n",
            "\n",
            "           1       0.81      0.73      0.77        30\n",
            "           2       0.70      0.79      0.75        24\n",
            "\n",
            "    accuracy                           0.76        54\n",
            "   macro avg       0.76      0.76      0.76        54\n",
            "weighted avg       0.77      0.76      0.76        54\n",
            "\n",
            "------------------------- Random Forest (Test SET) -------------------------\n",
            "              precision    recall  f1-score   support\n",
            "\n",
            "           1       0.86      0.83      0.85        30\n",
            "           2       0.80      0.83      0.82        24\n",
            "\n",
            "    accuracy                           0.83        54\n",
            "   macro avg       0.83      0.83      0.83        54\n",
            "weighted avg       0.83      0.83      0.83        54\n",
            "\n"
          ]
        }
      ]
    },
    {
      "cell_type": "code",
      "source": [
        "from sklearn.metrics import confusion_matrix\n",
        "import matplotlib.pyplot as plt\n",
        "import seaborn as sns\n",
        "\n",
        "confusion=confusion_matrix(y_test, knn.predict(X_test))\n",
        "plt.figure(figsize=(4, 3))\n",
        "sns.set(font_scale=.9)\n",
        "sns.heatmap(confusion, annot=True, fmt='d', cmap='Blues', cbar=False, square=True,\n",
        "            xticklabels=['0', '1'],\n",
        "            yticklabels=['0', '1'])\n",
        "\n",
        "plt.xlabel('Predicted')\n",
        "plt.ylabel('Actual')\n",
        "plt.title('Confusion Matrix for KNN')\n",
        "plt.show()\n"
      ],
      "metadata": {
        "colab": {
          "base_uri": "https://localhost:8080/",
          "height": 336
        },
        "id": "0tG32sGt0sSY",
        "outputId": "ccc5b81f-3b30-422a-e3c9-2fff04930800"
      },
      "execution_count": null,
      "outputs": [
        {
          "output_type": "display_data",
          "data": {
            "text/plain": [
              "<Figure size 400x300 with 1 Axes>"
            ],
            "image/png": "[encoded data removed]"
          },
          "metadata": {}
        }
      ]
    },
    {
      "cell_type": "code",
      "source": [
        "confusion=confusion_matrix(y_test, logreg.predict(X_test))\n",
        "plt.figure(figsize=(4, 3))\n",
        "sns.set(font_scale=.9)\n",
        "sns.heatmap(confusion, annot=True, fmt='d', cmap='Blues', cbar=False, square=True,\n",
        "            xticklabels=['0', '1'],\n",
        "            yticklabels=['0', '1'])\n",
        "\n",
        "plt.xlabel('Predicted')\n",
        "plt.ylabel('Actual')\n",
        "plt.title('Confusion Matrix for Logistic Regression')\n",
        "plt.show()"
      ],
      "metadata": {
        "colab": {
          "base_uri": "https://localhost:8080/",
          "height": 336
        },
        "id": "HI8VXxjL0vUh",
        "outputId": "5428cfca-b119-41d0-aa6f-aeb961198502"
      },
      "execution_count": null,
      "outputs": [
        {
          "output_type": "display_data",
          "data": {
            "text/plain": [
              "<Figure size 400x300 with 1 Axes>"
            ],
            "image/png": "[encoded data removed]"
          },
          "metadata": {}
        }
      ]
    },
    {
      "cell_type": "code",
      "source": [
        "confusion=confusion_matrix(y_test, dt.predict(X_test))\n",
        "plt.figure(figsize=(4, 3))\n",
        "sns.set(font_scale=.9)\n",
        "sns.heatmap(confusion, annot=True, fmt='d', cmap='Blues', cbar=False, square=True,\n",
        "            xticklabels=['0', '1'],\n",
        "            yticklabels=['0', '1'])\n",
        "\n",
        "plt.xlabel('Predicted')\n",
        "plt.ylabel('Actual')\n",
        "plt.title('Confusion Matrix for Decision Tree')\n",
        "plt.show()"
      ],
      "metadata": {
        "colab": {
          "base_uri": "https://localhost:8080/",
          "height": 336
        },
        "id": "Go6Qze6n0yHh",
        "outputId": "37bb8d62-a91a-49e7-fac3-c23ab203b940"
      },
      "execution_count": null,
      "outputs": [
        {
          "output_type": "display_data",
          "data": {
            "text/plain": [
              "<Figure size 400x300 with 1 Axes>"
            ],
            "image/png": "[encoded data removed]"
          },
          "metadata": {}
        }
      ]
    }
  ]
}